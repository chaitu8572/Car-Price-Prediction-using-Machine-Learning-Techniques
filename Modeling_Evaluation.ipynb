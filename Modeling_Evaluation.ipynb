{
  "cells": [
    {
      "attachments": {},
      "cell_type": "markdown",
      "metadata": {
        "id": "IJ9-JOO6sxIN"
      },
      "source": [
        "This file will take more than 2 hour to Run."
      ]
    },
    {
      "cell_type": "code",
      "execution_count": 1,
      "metadata": {
        "id": "wcWluFwpZjur"
      },
      "outputs": [],
      "source": [
        "# importing libraries\n",
        "import numpy as np\n",
        "import pandas as pd\n",
        "import seaborn as sns\n",
        "import matplotlib.pyplot as plt\n",
        "from sklearn.preprocessing import StandardScaler, OneHotEncoder\n",
        "from sklearn.pipeline import Pipeline\n",
        "from sklearn.compose import ColumnTransformer\n",
        "from sklearn.impute import SimpleImputer\n",
        "from sklearn.ensemble import RandomForestRegressor\n",
        "from sklearn.svm import SVR\n",
        "from sklearn.tree import DecisionTreeClassifier\n",
        "from sklearn import tree\n",
        "from sklearn.ensemble import AdaBoostClassifier\n",
        "from sklearn.model_selection import KFold\n",
        "from sklearn.model_selection import train_test_split\n",
        "from sklearn.linear_model import LinearRegression\n",
        "from sklearn.metrics import mean_squared_error, mean_absolute_error\n",
        "from sklearn.tree import DecisionTreeRegressor\n",
        "from sklearn.ensemble import RandomForestRegressor\n",
        "from sklearn.neighbors import KNeighborsClassifier\n",
        "from sklearn.model_selection import GridSearchCV\n",
        "import seaborn as sns\n",
        "import warnings\n",
        "warnings.filterwarnings(\"ignore\")"
      ]
    },
    {
      "cell_type": "code",
      "execution_count": 5,
      "metadata": {
        "colab": {
          "base_uri": "https://localhost:8080/",
          "height": 206
        },
        "id": "00K95eup7Mvq",
        "outputId": "53ea94b5-c420-41f9-a00b-f5a092def5b5"
      },
      "outputs": [
        {
          "data": {
            "text/html": [
              "\n",
              "  <div id=\"df-6008a307-4363-43ba-9dcf-28a73fbb1a73\">\n",
              "    <div class=\"colab-df-container\">\n",
              "      <div>\n",
              "<style scoped>\n",
              "    .dataframe tbody tr th:only-of-type {\n",
              "        vertical-align: middle;\n",
              "    }\n",
              "\n",
              "    .dataframe tbody tr th {\n",
              "        vertical-align: top;\n",
              "    }\n",
              "\n",
              "    .dataframe thead th {\n",
              "        text-align: right;\n",
              "    }\n",
              "</style>\n",
              "<table border=\"1\" class=\"dataframe\">\n",
              "  <thead>\n",
              "    <tr style=\"text-align: right;\">\n",
              "      <th></th>\n",
              "      <th>Mileage</th>\n",
              "      <th>Model</th>\n",
              "      <th>Levy</th>\n",
              "      <th>Prod. year</th>\n",
              "      <th>Manufacturer</th>\n",
              "      <th>Engine volume</th>\n",
              "      <th>Airbags</th>\n",
              "      <th>Color</th>\n",
              "      <th>Category</th>\n",
              "      <th>Fuel type</th>\n",
              "      <th>Gear box type</th>\n",
              "      <th>Leather interior</th>\n",
              "      <th>Price</th>\n",
              "    </tr>\n",
              "  </thead>\n",
              "  <tbody>\n",
              "    <tr>\n",
              "      <th>0</th>\n",
              "      <td>186005</td>\n",
              "      <td>RX 450</td>\n",
              "      <td>1399.000000</td>\n",
              "      <td>2010</td>\n",
              "      <td>LEXUS</td>\n",
              "      <td>3.5</td>\n",
              "      <td>12</td>\n",
              "      <td>Silver</td>\n",
              "      <td>Jeep</td>\n",
              "      <td>Hybrid</td>\n",
              "      <td>Automatic</td>\n",
              "      <td>True</td>\n",
              "      <td>13328</td>\n",
              "    </tr>\n",
              "    <tr>\n",
              "      <th>1</th>\n",
              "      <td>192000</td>\n",
              "      <td>Equinox</td>\n",
              "      <td>1018.000000</td>\n",
              "      <td>2011</td>\n",
              "      <td>CHEVROLET</td>\n",
              "      <td>3.0</td>\n",
              "      <td>8</td>\n",
              "      <td>Black</td>\n",
              "      <td>Jeep</td>\n",
              "      <td>Petrol</td>\n",
              "      <td>Tiptronic</td>\n",
              "      <td>False</td>\n",
              "      <td>16621</td>\n",
              "    </tr>\n",
              "    <tr>\n",
              "      <th>2</th>\n",
              "      <td>200000</td>\n",
              "      <td>FIT</td>\n",
              "      <td>803.857398</td>\n",
              "      <td>2006</td>\n",
              "      <td>HONDA</td>\n",
              "      <td>1.3</td>\n",
              "      <td>2</td>\n",
              "      <td>Black</td>\n",
              "      <td>Hatchback</td>\n",
              "      <td>Petrol</td>\n",
              "      <td>Variator</td>\n",
              "      <td>False</td>\n",
              "      <td>8467</td>\n",
              "    </tr>\n",
              "    <tr>\n",
              "      <th>3</th>\n",
              "      <td>168966</td>\n",
              "      <td>Escape</td>\n",
              "      <td>862.000000</td>\n",
              "      <td>2011</td>\n",
              "      <td>FORD</td>\n",
              "      <td>2.5</td>\n",
              "      <td>0</td>\n",
              "      <td>White</td>\n",
              "      <td>Jeep</td>\n",
              "      <td>Hybrid</td>\n",
              "      <td>Automatic</td>\n",
              "      <td>True</td>\n",
              "      <td>3607</td>\n",
              "    </tr>\n",
              "    <tr>\n",
              "      <th>4</th>\n",
              "      <td>91901</td>\n",
              "      <td>FIT</td>\n",
              "      <td>446.000000</td>\n",
              "      <td>2014</td>\n",
              "      <td>HONDA</td>\n",
              "      <td>1.3</td>\n",
              "      <td>4</td>\n",
              "      <td>Silver</td>\n",
              "      <td>Hatchback</td>\n",
              "      <td>Petrol</td>\n",
              "      <td>Automatic</td>\n",
              "      <td>True</td>\n",
              "      <td>11726</td>\n",
              "    </tr>\n",
              "  </tbody>\n",
              "</table>\n",
              "</div>\n",
              "      <button class=\"colab-df-convert\" onclick=\"convertToInteractive('df-6008a307-4363-43ba-9dcf-28a73fbb1a73')\"\n",
              "              title=\"Convert this dataframe to an interactive table.\"\n",
              "              style=\"display:none;\">\n",
              "        \n",
              "  <svg xmlns=\"http://www.w3.org/2000/svg\" height=\"24px\"viewBox=\"0 0 24 24\"\n",
              "       width=\"24px\">\n",
              "    <path d=\"M0 0h24v24H0V0z\" fill=\"none\"/>\n",
              "    <path d=\"M18.56 5.44l.94 2.06.94-2.06 2.06-.94-2.06-.94-.94-2.06-.94 2.06-2.06.94zm-11 1L8.5 8.5l.94-2.06 2.06-.94-2.06-.94L8.5 2.5l-.94 2.06-2.06.94zm10 10l.94 2.06.94-2.06 2.06-.94-2.06-.94-.94-2.06-.94 2.06-2.06.94z\"/><path d=\"M17.41 7.96l-1.37-1.37c-.4-.4-.92-.59-1.43-.59-.52 0-1.04.2-1.43.59L10.3 9.45l-7.72 7.72c-.78.78-.78 2.05 0 2.83L4 21.41c.39.39.9.59 1.41.59.51 0 1.02-.2 1.41-.59l7.78-7.78 2.81-2.81c.8-.78.8-2.07 0-2.86zM5.41 20L4 18.59l7.72-7.72 1.47 1.35L5.41 20z\"/>\n",
              "  </svg>\n",
              "      </button>\n",
              "      \n",
              "  <style>\n",
              "    .colab-df-container {\n",
              "      display:flex;\n",
              "      flex-wrap:wrap;\n",
              "      gap: 12px;\n",
              "    }\n",
              "\n",
              "    .colab-df-convert {\n",
              "      background-color: #E8F0FE;\n",
              "      border: none;\n",
              "      border-radius: 50%;\n",
              "      cursor: pointer;\n",
              "      display: none;\n",
              "      fill: #1967D2;\n",
              "      height: 32px;\n",
              "      padding: 0 0 0 0;\n",
              "      width: 32px;\n",
              "    }\n",
              "\n",
              "    .colab-df-convert:hover {\n",
              "      background-color: #E2EBFA;\n",
              "      box-shadow: 0px 1px 2px rgba(60, 64, 67, 0.3), 0px 1px 3px 1px rgba(60, 64, 67, 0.15);\n",
              "      fill: #174EA6;\n",
              "    }\n",
              "\n",
              "    [theme=dark] .colab-df-convert {\n",
              "      background-color: #3B4455;\n",
              "      fill: #D2E3FC;\n",
              "    }\n",
              "\n",
              "    [theme=dark] .colab-df-convert:hover {\n",
              "      background-color: #434B5C;\n",
              "      box-shadow: 0px 1px 3px 1px rgba(0, 0, 0, 0.15);\n",
              "      filter: drop-shadow(0px 1px 2px rgba(0, 0, 0, 0.3));\n",
              "      fill: #FFFFFF;\n",
              "    }\n",
              "  </style>\n",
              "\n",
              "      <script>\n",
              "        const buttonEl =\n",
              "          document.querySelector('#df-6008a307-4363-43ba-9dcf-28a73fbb1a73 button.colab-df-convert');\n",
              "        buttonEl.style.display =\n",
              "          google.colab.kernel.accessAllowed ? 'block' : 'none';\n",
              "\n",
              "        async function convertToInteractive(key) {\n",
              "          const element = document.querySelector('#df-6008a307-4363-43ba-9dcf-28a73fbb1a73');\n",
              "          const dataTable =\n",
              "            await google.colab.kernel.invokeFunction('convertToInteractive',\n",
              "                                                     [key], {});\n",
              "          if (!dataTable) return;\n",
              "\n",
              "          const docLinkHtml = 'Like what you see? Visit the ' +\n",
              "            '<a target=\"_blank\" href=https://colab.research.google.com/notebooks/data_table.ipynb>data table notebook</a>'\n",
              "            + ' to learn more about interactive tables.';\n",
              "          element.innerHTML = '';\n",
              "          dataTable['output_type'] = 'display_data';\n",
              "          await google.colab.output.renderOutput(dataTable, element);\n",
              "          const docLink = document.createElement('div');\n",
              "          docLink.innerHTML = docLinkHtml;\n",
              "          element.appendChild(docLink);\n",
              "        }\n",
              "      </script>\n",
              "    </div>\n",
              "  </div>\n",
              "  "
            ],
            "text/plain": [
              "   Mileage    Model         Levy  Prod. year Manufacturer  Engine volume  \\\n",
              "0   186005   RX 450  1399.000000        2010        LEXUS            3.5   \n",
              "1   192000  Equinox  1018.000000        2011    CHEVROLET            3.0   \n",
              "2   200000      FIT   803.857398        2006        HONDA            1.3   \n",
              "3   168966   Escape   862.000000        2011         FORD            2.5   \n",
              "4    91901      FIT   446.000000        2014        HONDA            1.3   \n",
              "\n",
              "   Airbags   Color   Category Fuel type Gear box type  Leather interior  Price  \n",
              "0       12  Silver       Jeep    Hybrid     Automatic              True  13328  \n",
              "1        8   Black       Jeep    Petrol     Tiptronic             False  16621  \n",
              "2        2   Black  Hatchback    Petrol      Variator             False   8467  \n",
              "3        0   White       Jeep    Hybrid     Automatic              True   3607  \n",
              "4        4  Silver  Hatchback    Petrol     Automatic              True  11726  "
            ]
          },
          "execution_count": 5,
          "metadata": {},
          "output_type": "execute_result"
        }
      ],
      "source": [
        "df=pd.read_csv(\"Model_Features.csv\")\n",
        "df.head(5)"
      ]
    },
    {
      "cell_type": "markdown",
      "metadata": {
        "id": "yaOEKObudBp7"
      },
      "source": [
        "## **2.3 Normalization AND one-hot-encoding**"
      ]
    },
    {
      "cell_type": "code",
      "execution_count": 6,
      "metadata": {
        "colab": {
          "base_uri": "https://localhost:8080/"
        },
        "id": "mZFSnA0Udfxx",
        "outputId": "af6c3011-1b73-4f84-87ea-df4fc1b1aeb0"
      },
      "outputs": [
        {
          "name": "stdout",
          "output_type": "stream",
          "text": [
            "<class 'pandas.core.frame.DataFrame'>\n",
            "RangeIndex: 16728 entries, 0 to 16727\n",
            "Data columns (total 13 columns):\n",
            " #   Column            Non-Null Count  Dtype  \n",
            "---  ------            --------------  -----  \n",
            " 0   Mileage           16728 non-null  int64  \n",
            " 1   Model             16728 non-null  object \n",
            " 2   Levy              16728 non-null  float64\n",
            " 3   Prod. year        16728 non-null  int64  \n",
            " 4   Manufacturer      16728 non-null  object \n",
            " 5   Engine volume     16728 non-null  float64\n",
            " 6   Airbags           16728 non-null  int64  \n",
            " 7   Color             16728 non-null  object \n",
            " 8   Category          16728 non-null  object \n",
            " 9   Fuel type         16728 non-null  object \n",
            " 10  Gear box type     16728 non-null  object \n",
            " 11  Leather interior  16728 non-null  bool   \n",
            " 12  Price             16728 non-null  int64  \n",
            "dtypes: bool(1), float64(2), int64(4), object(6)\n",
            "memory usage: 1.5+ MB\n"
          ]
        }
      ],
      "source": [
        "df.info()"
      ]
    },
    {
      "cell_type": "code",
      "execution_count": 7,
      "metadata": {
        "colab": {
          "base_uri": "https://localhost:8080/"
        },
        "id": "oxhtJbSlsxIS",
        "outputId": "0182280c-b974-46c0-8234-03468a5045b9"
      },
      "outputs": [
        {
          "name": "stdout",
          "output_type": "stream",
          "text": [
            "['Levy', 'Prod. year', 'Engine volume', 'Mileage', 'Airbags'] ['Manufacturer', 'Category', 'Leather interior', 'Fuel type', 'Gear box type', 'Color']\n"
          ]
        }
      ],
      "source": [
        "num_attribs = ['Levy','Prod. year', 'Engine volume','Doors', 'Mileage', 'Cylinders', 'Airbags']\n",
        "cat_attribs = ['Manufacturer','Category', 'Leather interior', 'Fuel type', 'Gear box type', 'Drive wheels', 'Wheel', 'Color', 'Turbo Engine']\n",
        "num_attribs = [x for x in num_attribs if x in df.columns]\n",
        "cat_attribs = [x for x in cat_attribs if x in df.columns]\n",
        "print(num_attribs, cat_attribs)"
      ]
    },
    {
      "cell_type": "code",
      "execution_count": 8,
      "metadata": {
        "id": "JGr5Z_AndFOB"
      },
      "outputs": [],
      "source": [
        "num_pipeline = Pipeline([\n",
        "    ('imputer', SimpleImputer(strategy='median')),\n",
        "    ('std_scaler', StandardScaler())])"
      ]
    },
    {
      "cell_type": "code",
      "execution_count": 9,
      "metadata": {
        "id": "3bndRUuxdGk3"
      },
      "outputs": [],
      "source": [
        "df = df.reset_index()\n",
        "full_pipeline = ColumnTransformer([\n",
        "    ('num',num_pipeline, num_attribs),\n",
        "    ('cat',OneHotEncoder(), cat_attribs)  \n",
        "])\n",
        "df1 = full_pipeline.fit_transform(df)"
      ]
    },
    {
      "cell_type": "code",
      "execution_count": 10,
      "metadata": {
        "colab": {
          "base_uri": "https://localhost:8080/"
        },
        "id": "DacQNPNBsxIT",
        "outputId": "5a65f153-5536-4955-92e7-7938f08bdb3f"
      },
      "outputs": [
        {
          "data": {
            "text/plain": [
              "<16728x88 sparse matrix of type '<class 'numpy.float64'>'\n",
              "\twith 184008 stored elements in Compressed Sparse Row format>"
            ]
          },
          "execution_count": 10,
          "metadata": {},
          "output_type": "execute_result"
        }
      ],
      "source": [
        "df1"
      ]
    },
    {
      "cell_type": "code",
      "execution_count": 11,
      "metadata": {
        "colab": {
          "base_uri": "https://localhost:8080/"
        },
        "id": "zD3aV__hsxIU",
        "outputId": "7797c6f0-69d7-4963-8db4-1cb75949388d"
      },
      "outputs": [
        {
          "data": {
            "text/plain": [
              "(16728, 88)"
            ]
          },
          "execution_count": 11,
          "metadata": {},
          "output_type": "execute_result"
        }
      ],
      "source": [
        "df1.shape"
      ]
    },
    {
      "cell_type": "markdown",
      "metadata": {
        "id": "rFLZqcFEDMEM"
      },
      "source": [
        "## **3 Model building**"
      ]
    },
    {
      "cell_type": "code",
      "execution_count": 12,
      "metadata": {
        "colab": {
          "base_uri": "https://localhost:8080/",
          "height": 49
        },
        "id": "SFmwpTLnsxIU",
        "outputId": "dbeef3ec-dcd1-47a9-b67f-38fecc75c73c"
      },
      "outputs": [
        {
          "data": {
            "text/html": [
              "\n",
              "  <div id=\"df-0289d4c3-fbb8-4c11-901e-e4a9c1b6076a\">\n",
              "    <div class=\"colab-df-container\">\n",
              "      <div>\n",
              "<style scoped>\n",
              "    .dataframe tbody tr th:only-of-type {\n",
              "        vertical-align: middle;\n",
              "    }\n",
              "\n",
              "    .dataframe tbody tr th {\n",
              "        vertical-align: top;\n",
              "    }\n",
              "\n",
              "    .dataframe thead th {\n",
              "        text-align: right;\n",
              "    }\n",
              "</style>\n",
              "<table border=\"1\" class=\"dataframe\">\n",
              "  <thead>\n",
              "    <tr style=\"text-align: right;\">\n",
              "      <th></th>\n",
              "      <th>Algorithm</th>\n",
              "      <th>rmse_train</th>\n",
              "      <th>rmse_test</th>\n",
              "    </tr>\n",
              "  </thead>\n",
              "  <tbody>\n",
              "  </tbody>\n",
              "</table>\n",
              "</div>\n",
              "      <button class=\"colab-df-convert\" onclick=\"convertToInteractive('df-0289d4c3-fbb8-4c11-901e-e4a9c1b6076a')\"\n",
              "              title=\"Convert this dataframe to an interactive table.\"\n",
              "              style=\"display:none;\">\n",
              "        \n",
              "  <svg xmlns=\"http://www.w3.org/2000/svg\" height=\"24px\"viewBox=\"0 0 24 24\"\n",
              "       width=\"24px\">\n",
              "    <path d=\"M0 0h24v24H0V0z\" fill=\"none\"/>\n",
              "    <path d=\"M18.56 5.44l.94 2.06.94-2.06 2.06-.94-2.06-.94-.94-2.06-.94 2.06-2.06.94zm-11 1L8.5 8.5l.94-2.06 2.06-.94-2.06-.94L8.5 2.5l-.94 2.06-2.06.94zm10 10l.94 2.06.94-2.06 2.06-.94-2.06-.94-.94-2.06-.94 2.06-2.06.94z\"/><path d=\"M17.41 7.96l-1.37-1.37c-.4-.4-.92-.59-1.43-.59-.52 0-1.04.2-1.43.59L10.3 9.45l-7.72 7.72c-.78.78-.78 2.05 0 2.83L4 21.41c.39.39.9.59 1.41.59.51 0 1.02-.2 1.41-.59l7.78-7.78 2.81-2.81c.8-.78.8-2.07 0-2.86zM5.41 20L4 18.59l7.72-7.72 1.47 1.35L5.41 20z\"/>\n",
              "  </svg>\n",
              "      </button>\n",
              "      \n",
              "  <style>\n",
              "    .colab-df-container {\n",
              "      display:flex;\n",
              "      flex-wrap:wrap;\n",
              "      gap: 12px;\n",
              "    }\n",
              "\n",
              "    .colab-df-convert {\n",
              "      background-color: #E8F0FE;\n",
              "      border: none;\n",
              "      border-radius: 50%;\n",
              "      cursor: pointer;\n",
              "      display: none;\n",
              "      fill: #1967D2;\n",
              "      height: 32px;\n",
              "      padding: 0 0 0 0;\n",
              "      width: 32px;\n",
              "    }\n",
              "\n",
              "    .colab-df-convert:hover {\n",
              "      background-color: #E2EBFA;\n",
              "      box-shadow: 0px 1px 2px rgba(60, 64, 67, 0.3), 0px 1px 3px 1px rgba(60, 64, 67, 0.15);\n",
              "      fill: #174EA6;\n",
              "    }\n",
              "\n",
              "    [theme=dark] .colab-df-convert {\n",
              "      background-color: #3B4455;\n",
              "      fill: #D2E3FC;\n",
              "    }\n",
              "\n",
              "    [theme=dark] .colab-df-convert:hover {\n",
              "      background-color: #434B5C;\n",
              "      box-shadow: 0px 1px 3px 1px rgba(0, 0, 0, 0.15);\n",
              "      filter: drop-shadow(0px 1px 2px rgba(0, 0, 0, 0.3));\n",
              "      fill: #FFFFFF;\n",
              "    }\n",
              "  </style>\n",
              "\n",
              "      <script>\n",
              "        const buttonEl =\n",
              "          document.querySelector('#df-0289d4c3-fbb8-4c11-901e-e4a9c1b6076a button.colab-df-convert');\n",
              "        buttonEl.style.display =\n",
              "          google.colab.kernel.accessAllowed ? 'block' : 'none';\n",
              "\n",
              "        async function convertToInteractive(key) {\n",
              "          const element = document.querySelector('#df-0289d4c3-fbb8-4c11-901e-e4a9c1b6076a');\n",
              "          const dataTable =\n",
              "            await google.colab.kernel.invokeFunction('convertToInteractive',\n",
              "                                                     [key], {});\n",
              "          if (!dataTable) return;\n",
              "\n",
              "          const docLinkHtml = 'Like what you see? Visit the ' +\n",
              "            '<a target=\"_blank\" href=https://colab.research.google.com/notebooks/data_table.ipynb>data table notebook</a>'\n",
              "            + ' to learn more about interactive tables.';\n",
              "          element.innerHTML = '';\n",
              "          dataTable['output_type'] = 'display_data';\n",
              "          await google.colab.output.renderOutput(dataTable, element);\n",
              "          const docLink = document.createElement('div');\n",
              "          docLink.innerHTML = docLinkHtml;\n",
              "          element.appendChild(docLink);\n",
              "        }\n",
              "      </script>\n",
              "    </div>\n",
              "  </div>\n",
              "  "
            ],
            "text/plain": [
              "Empty DataFrame\n",
              "Columns: [Algorithm, rmse_train, rmse_test]\n",
              "Index: []"
            ]
          },
          "execution_count": 12,
          "metadata": {},
          "output_type": "execute_result"
        }
      ],
      "source": [
        "ml_models = pd.DataFrame(columns=['Algorithm', 'rmse_train', 'rmse_test'])\n",
        "ml_models.head()"
      ]
    },
    {
      "cell_type": "markdown",
      "metadata": {
        "id": "A_jDVy8JhrB_"
      },
      "source": [
        "linear regression"
      ]
    },
    {
      "cell_type": "code",
      "execution_count": 13,
      "metadata": {
        "id": "AdgXtFUwsxIV"
      },
      "outputs": [],
      "source": [
        "Y = df['Price']"
      ]
    },
    {
      "cell_type": "code",
      "execution_count": 14,
      "metadata": {
        "colab": {
          "base_uri": "https://localhost:8080/",
          "height": 118
        },
        "id": "SB29FYnPUF5G",
        "outputId": "c788c032-0f40-4fad-a0be-812990c141cd"
      },
      "outputs": [
        {
          "name": "stdout",
          "output_type": "stream",
          "text": [
            "[8829.353341805225, 9197.263863361119, 9010.118115590985, 9076.991437166413, 9298.267054126916, 9520.697296445636, 9171.126266765325, 9335.070920502096, 9468.949824142273, 8901.378643218903]\n"
          ]
        },
        {
          "data": {
            "text/html": [
              "\n",
              "  <div id=\"df-39136c21-3620-40da-abb4-8d7f557aca92\">\n",
              "    <div class=\"colab-df-container\">\n",
              "      <div>\n",
              "<style scoped>\n",
              "    .dataframe tbody tr th:only-of-type {\n",
              "        vertical-align: middle;\n",
              "    }\n",
              "\n",
              "    .dataframe tbody tr th {\n",
              "        vertical-align: top;\n",
              "    }\n",
              "\n",
              "    .dataframe thead th {\n",
              "        text-align: right;\n",
              "    }\n",
              "</style>\n",
              "<table border=\"1\" class=\"dataframe\">\n",
              "  <thead>\n",
              "    <tr style=\"text-align: right;\">\n",
              "      <th></th>\n",
              "      <th>Algorithm</th>\n",
              "      <th>rmse_train</th>\n",
              "      <th>rmse_test</th>\n",
              "    </tr>\n",
              "  </thead>\n",
              "  <tbody>\n",
              "    <tr>\n",
              "      <th>0</th>\n",
              "      <td>Linear Regression</td>\n",
              "      <td>9179.423772</td>\n",
              "      <td>8829.353342</td>\n",
              "    </tr>\n",
              "  </tbody>\n",
              "</table>\n",
              "</div>\n",
              "      <button class=\"colab-df-convert\" onclick=\"convertToInteractive('df-39136c21-3620-40da-abb4-8d7f557aca92')\"\n",
              "              title=\"Convert this dataframe to an interactive table.\"\n",
              "              style=\"display:none;\">\n",
              "        \n",
              "  <svg xmlns=\"http://www.w3.org/2000/svg\" height=\"24px\"viewBox=\"0 0 24 24\"\n",
              "       width=\"24px\">\n",
              "    <path d=\"M0 0h24v24H0V0z\" fill=\"none\"/>\n",
              "    <path d=\"M18.56 5.44l.94 2.06.94-2.06 2.06-.94-2.06-.94-.94-2.06-.94 2.06-2.06.94zm-11 1L8.5 8.5l.94-2.06 2.06-.94-2.06-.94L8.5 2.5l-.94 2.06-2.06.94zm10 10l.94 2.06.94-2.06 2.06-.94-2.06-.94-.94-2.06-.94 2.06-2.06.94z\"/><path d=\"M17.41 7.96l-1.37-1.37c-.4-.4-.92-.59-1.43-.59-.52 0-1.04.2-1.43.59L10.3 9.45l-7.72 7.72c-.78.78-.78 2.05 0 2.83L4 21.41c.39.39.9.59 1.41.59.51 0 1.02-.2 1.41-.59l7.78-7.78 2.81-2.81c.8-.78.8-2.07 0-2.86zM5.41 20L4 18.59l7.72-7.72 1.47 1.35L5.41 20z\"/>\n",
              "  </svg>\n",
              "      </button>\n",
              "      \n",
              "  <style>\n",
              "    .colab-df-container {\n",
              "      display:flex;\n",
              "      flex-wrap:wrap;\n",
              "      gap: 12px;\n",
              "    }\n",
              "\n",
              "    .colab-df-convert {\n",
              "      background-color: #E8F0FE;\n",
              "      border: none;\n",
              "      border-radius: 50%;\n",
              "      cursor: pointer;\n",
              "      display: none;\n",
              "      fill: #1967D2;\n",
              "      height: 32px;\n",
              "      padding: 0 0 0 0;\n",
              "      width: 32px;\n",
              "    }\n",
              "\n",
              "    .colab-df-convert:hover {\n",
              "      background-color: #E2EBFA;\n",
              "      box-shadow: 0px 1px 2px rgba(60, 64, 67, 0.3), 0px 1px 3px 1px rgba(60, 64, 67, 0.15);\n",
              "      fill: #174EA6;\n",
              "    }\n",
              "\n",
              "    [theme=dark] .colab-df-convert {\n",
              "      background-color: #3B4455;\n",
              "      fill: #D2E3FC;\n",
              "    }\n",
              "\n",
              "    [theme=dark] .colab-df-convert:hover {\n",
              "      background-color: #434B5C;\n",
              "      box-shadow: 0px 1px 3px 1px rgba(0, 0, 0, 0.15);\n",
              "      filter: drop-shadow(0px 1px 2px rgba(0, 0, 0, 0.3));\n",
              "      fill: #FFFFFF;\n",
              "    }\n",
              "  </style>\n",
              "\n",
              "      <script>\n",
              "        const buttonEl =\n",
              "          document.querySelector('#df-39136c21-3620-40da-abb4-8d7f557aca92 button.colab-df-convert');\n",
              "        buttonEl.style.display =\n",
              "          google.colab.kernel.accessAllowed ? 'block' : 'none';\n",
              "\n",
              "        async function convertToInteractive(key) {\n",
              "          const element = document.querySelector('#df-39136c21-3620-40da-abb4-8d7f557aca92');\n",
              "          const dataTable =\n",
              "            await google.colab.kernel.invokeFunction('convertToInteractive',\n",
              "                                                     [key], {});\n",
              "          if (!dataTable) return;\n",
              "\n",
              "          const docLinkHtml = 'Like what you see? Visit the ' +\n",
              "            '<a target=\"_blank\" href=https://colab.research.google.com/notebooks/data_table.ipynb>data table notebook</a>'\n",
              "            + ' to learn more about interactive tables.';\n",
              "          element.innerHTML = '';\n",
              "          dataTable['output_type'] = 'display_data';\n",
              "          await google.colab.output.renderOutput(dataTable, element);\n",
              "          const docLink = document.createElement('div');\n",
              "          docLink.innerHTML = docLinkHtml;\n",
              "          element.appendChild(docLink);\n",
              "        }\n",
              "      </script>\n",
              "    </div>\n",
              "  </div>\n",
              "  "
            ],
            "text/plain": [
              "           Algorithm   rmse_train    rmse_test\n",
              "0  Linear Regression  9179.423772  8829.353342"
            ]
          },
          "execution_count": 14,
          "metadata": {},
          "output_type": "execute_result"
        }
      ],
      "source": [
        "lin_rmse_train = []\n",
        "lin_rmse_test = []\n",
        "kf = KFold(n_splits=10, shuffle=True, random_state=1)\n",
        "lin_reg = LinearRegression()\n",
        "for train_index, test_index in kf.split(df1):\n",
        "    X_train, X_test = df1[train_index], df1[test_index]\n",
        "    y_train, y_test = Y[train_index], Y[test_index]\n",
        "    lin_reg.fit(X_train, y_train)\n",
        "    predictions = lin_reg.predict(X_train)\n",
        "    lin_mse_train = mean_squared_error(y_train, predictions)\n",
        "    lin_rmse_train.append(np.sqrt(lin_mse_train))\n",
        "    predictions = lin_reg.predict(X_test)\n",
        "    lin_mse_test = mean_squared_error(y_test, predictions)\n",
        "    lin_rmse_test.append(np.sqrt(lin_mse_test))\n",
        "print(lin_rmse_test)\n",
        "min_idx = lin_rmse_test.index(min(lin_rmse_test))\n",
        "ml_models = ml_models.append({'Algorithm':'Linear Regression', 'rmse_train':lin_rmse_train[min_idx], 'rmse_test':min(lin_rmse_test)}, ignore_index=True)\n",
        "ml_models.head()"
      ]
    },
    {
      "cell_type": "code",
      "execution_count": 15,
      "metadata": {
        "colab": {
          "base_uri": "https://localhost:8080/",
          "height": 472
        },
        "id": "ej9HDvFNsxIW",
        "outputId": "d6efe1bf-56c7-4143-a565-1b467ec59561"
      },
      "outputs": [
        {
          "data": {
            "image/png": "[encoded data removed]",
            "text/plain": [
              "<Figure size 640x480 with 1 Axes>"
            ]
          },
          "metadata": {},
          "output_type": "display_data"
        }
      ],
      "source": [
        "x_lst = np.arange(1,11,1)\n",
        "plt.plot(x_lst, lin_rmse_train, label=\"train\")\n",
        "plt.plot(x_lst, lin_rmse_test, '-.', label=\"test\")\n",
        "plt.xlabel(\"KFold\")\n",
        "plt.ylabel(\"RMSE\")\n",
        "plt.legend(loc=\"upper left\")\n",
        "plt.title('Train Test Plot Linear Regression')\n",
        "plt.show()"
      ]
    },
    {
      "cell_type": "markdown",
      "metadata": {
        "id": "uvjz3KvphrCA"
      },
      "source": [
        "knn"
      ]
    },
    {
      "cell_type": "code",
      "execution_count": 16,
      "metadata": {
        "colab": {
          "base_uri": "https://localhost:8080/"
        },
        "id": "DlS_IXSlUZYY",
        "outputId": "3d8076f7-a443-41d2-8b70-8ac7a3c4a2b5"
      },
      "outputs": [
        {
          "name": "stdout",
          "output_type": "stream",
          "text": [
            "neighbours: 1\n",
            "[7154.800503136979, 7714.5431641749665, 7124.454780661995, 7625.564470968467, 7433.302101334717, 8313.741414431715, 7637.560160132381, 7723.157413322762, 8011.769352626734, 7262.088436155639]\n",
            "neighbours: 3\n",
            "[7921.9999069680125, 8239.506430966689, 8475.781538018497, 8240.860976076307, 8672.24196399111, 8943.535370372269, 8909.456942628563, 8528.095502629676, 8918.344268071942, 8110.096494685501]\n",
            "neighbours: 5\n",
            "[8672.915880641516, 9163.111414719644, 9490.557736982364, 9206.416450472669, 9552.479542477131, 9731.002198929811, 9665.878946888357, 9585.430348093872, 10029.628140780918, 9131.711327715482]\n",
            "neighbours: 7\n",
            "[9228.302975559853, 9546.878383800367, 9781.456218433843, 9720.446993269084, 9968.784371636139, 9688.587787937242, 10269.966986731142, 9727.092217654725, 10327.84266563914, 9521.112305036613]\n",
            "neighbours: 9\n",
            "[9333.198230787895, 9576.173358210017, 10006.268280352378, 9796.235207846923, 10042.26500689059, 9880.279274289556, 10172.072484151557, 9962.616626920411, 10374.39338368974, 9435.825506569663]\n",
            "neighbours: 11\n",
            "[9558.466500834702, 9665.521072075731, 9997.600526681083, 9858.05853236303, 9920.155951295701, 9853.718652656686, 9966.57390249304, 10072.900615776067, 10245.342182358403, 9536.54940514745]\n",
            "neighbours: 13\n",
            "[9789.2842578776, 9692.496028618933, 10047.021075935834, 9900.424564576828, 9991.666518718443, 9758.0940720975, 9812.138690124488, 10026.00578844508, 10323.193081548143, 9319.119077326588]\n",
            "neighbours: 15\n",
            "[9744.088169266959, 9520.720537642497, 9981.618554209801, 9920.56613547314, 10070.45956533975, 9769.99142705652, 9818.32337119119, 10035.35763343005, 10204.262840373656, 9493.352592691514]\n",
            "neighbours: 17\n",
            "[9636.54335517785, 9497.391070931742, 9892.318911121423, 9914.634006204538, 10098.711143049253, 9788.637327495024, 9675.634115547971, 10028.674507906564, 10217.965572997246, 9592.885940127042]\n",
            "neighbours: 19\n",
            "[9674.483094936597, 9612.681480910358, 9820.991217536002, 9815.672492101885, 10090.4419810523, 9802.300834484271, 9801.14627974156, 10086.199065434275, 10128.658172718866, 9370.57604330562]\n"
          ]
        }
      ],
      "source": [
        "#running this cell takes > 15 min\n",
        "\n",
        "kf = KFold(n_splits=10, shuffle=True, random_state=1)\n",
        "lst_knn_rmse_train = []\n",
        "lst_knn_rmse_test = []\n",
        "for x in range(1, 20, 2):\n",
        "    knn_rmse_train = []\n",
        "    knn_rmse_test = []\n",
        "    knn = KNeighborsClassifier(n_neighbors=x)\n",
        "    for train_index, test_index in kf.split(df1):\n",
        "        X_train, X_test = df1[train_index], df1[test_index]\n",
        "        y_train, y_test = Y[train_index], Y[test_index]\n",
        "        knn.fit(X_train, y_train)\n",
        "        tree_predictions_train = knn.predict(X_train)\n",
        "        knn_mse_train = mean_squared_error(y_train, tree_predictions_train)\n",
        "        knn_rmse_train.append(np.sqrt(knn_mse_train))\n",
        "        tree_predictions_test = knn.predict(X_test)\n",
        "        knn_mse_test = mean_squared_error(y_test, tree_predictions_test)\n",
        "        knn_rmse_test.append(np.sqrt(knn_mse_test))\n",
        "    print(f'neighbours: {x}')\n",
        "    print(knn_rmse_test)\n",
        "    lst_knn_rmse_train.append(knn_rmse_train)\n",
        "    lst_knn_rmse_test.append(knn_rmse_test)"
      ]
    },
    {
      "cell_type": "code",
      "execution_count": 17,
      "metadata": {
        "colab": {
          "base_uri": "https://localhost:8080/"
        },
        "id": "jaYlpvR7hrCB",
        "outputId": "a72122c4-9bc7-4ced-cc6c-a984d9cebbb2"
      },
      "outputs": [
        {
          "name": "stdout",
          "output_type": "stream",
          "text": [
            "Minimum rmse: 7600.098179694636 || no-neighbour: 1\n"
          ]
        }
      ],
      "source": [
        "mean_tree_rmse_train = [np.mean(x) for x in lst_knn_rmse_train]\n",
        "mean_tree_rmse_test = [np.mean(x) for x in lst_knn_rmse_test]\n",
        "min_idx = mean_tree_rmse_test.index(min(mean_tree_rmse_test))\n",
        "ml_models = ml_models.append({'Algorithm':'KNN', 'rmse_train':mean_tree_rmse_train[min_idx], 'rmse_test':min(mean_tree_rmse_test)}, ignore_index=True)\n",
        "print(f\"Minimum rmse: {min(mean_tree_rmse_test)} || no-neighbour: {min_idx + min_idx + 1}\")"
      ]
    },
    {
      "cell_type": "code",
      "execution_count": 18,
      "metadata": {
        "colab": {
          "base_uri": "https://localhost:8080/",
          "height": 112
        },
        "id": "JrTyCzwZsxIX",
        "outputId": "075acb8f-86f2-4f11-f14e-c06be9efc092"
      },
      "outputs": [
        {
          "data": {
            "text/html": [
              "\n",
              "  <div id=\"df-dcc95a0d-3fa0-4bcb-a0f2-afa6f2baeee2\">\n",
              "    <div class=\"colab-df-container\">\n",
              "      <div>\n",
              "<style scoped>\n",
              "    .dataframe tbody tr th:only-of-type {\n",
              "        vertical-align: middle;\n",
              "    }\n",
              "\n",
              "    .dataframe tbody tr th {\n",
              "        vertical-align: top;\n",
              "    }\n",
              "\n",
              "    .dataframe thead th {\n",
              "        text-align: right;\n",
              "    }\n",
              "</style>\n",
              "<table border=\"1\" class=\"dataframe\">\n",
              "  <thead>\n",
              "    <tr style=\"text-align: right;\">\n",
              "      <th></th>\n",
              "      <th>Algorithm</th>\n",
              "      <th>rmse_train</th>\n",
              "      <th>rmse_test</th>\n",
              "    </tr>\n",
              "  </thead>\n",
              "  <tbody>\n",
              "    <tr>\n",
              "      <th>0</th>\n",
              "      <td>Linear Regression</td>\n",
              "      <td>9179.423772</td>\n",
              "      <td>8829.353342</td>\n",
              "    </tr>\n",
              "    <tr>\n",
              "      <th>1</th>\n",
              "      <td>KNN</td>\n",
              "      <td>1080.788623</td>\n",
              "      <td>7600.098180</td>\n",
              "    </tr>\n",
              "  </tbody>\n",
              "</table>\n",
              "</div>\n",
              "      <button class=\"colab-df-convert\" onclick=\"convertToInteractive('df-dcc95a0d-3fa0-4bcb-a0f2-afa6f2baeee2')\"\n",
              "              title=\"Convert this dataframe to an interactive table.\"\n",
              "              style=\"display:none;\">\n",
              "        \n",
              "  <svg xmlns=\"http://www.w3.org/2000/svg\" height=\"24px\"viewBox=\"0 0 24 24\"\n",
              "       width=\"24px\">\n",
              "    <path d=\"M0 0h24v24H0V0z\" fill=\"none\"/>\n",
              "    <path d=\"M18.56 5.44l.94 2.06.94-2.06 2.06-.94-2.06-.94-.94-2.06-.94 2.06-2.06.94zm-11 1L8.5 8.5l.94-2.06 2.06-.94-2.06-.94L8.5 2.5l-.94 2.06-2.06.94zm10 10l.94 2.06.94-2.06 2.06-.94-2.06-.94-.94-2.06-.94 2.06-2.06.94z\"/><path d=\"M17.41 7.96l-1.37-1.37c-.4-.4-.92-.59-1.43-.59-.52 0-1.04.2-1.43.59L10.3 9.45l-7.72 7.72c-.78.78-.78 2.05 0 2.83L4 21.41c.39.39.9.59 1.41.59.51 0 1.02-.2 1.41-.59l7.78-7.78 2.81-2.81c.8-.78.8-2.07 0-2.86zM5.41 20L4 18.59l7.72-7.72 1.47 1.35L5.41 20z\"/>\n",
              "  </svg>\n",
              "      </button>\n",
              "      \n",
              "  <style>\n",
              "    .colab-df-container {\n",
              "      display:flex;\n",
              "      flex-wrap:wrap;\n",
              "      gap: 12px;\n",
              "    }\n",
              "\n",
              "    .colab-df-convert {\n",
              "      background-color: #E8F0FE;\n",
              "      border: none;\n",
              "      border-radius: 50%;\n",
              "      cursor: pointer;\n",
              "      display: none;\n",
              "      fill: #1967D2;\n",
              "      height: 32px;\n",
              "      padding: 0 0 0 0;\n",
              "      width: 32px;\n",
              "    }\n",
              "\n",
              "    .colab-df-convert:hover {\n",
              "      background-color: #E2EBFA;\n",
              "      box-shadow: 0px 1px 2px rgba(60, 64, 67, 0.3), 0px 1px 3px 1px rgba(60, 64, 67, 0.15);\n",
              "      fill: #174EA6;\n",
              "    }\n",
              "\n",
              "    [theme=dark] .colab-df-convert {\n",
              "      background-color: #3B4455;\n",
              "      fill: #D2E3FC;\n",
              "    }\n",
              "\n",
              "    [theme=dark] .colab-df-convert:hover {\n",
              "      background-color: #434B5C;\n",
              "      box-shadow: 0px 1px 3px 1px rgba(0, 0, 0, 0.15);\n",
              "      filter: drop-shadow(0px 1px 2px rgba(0, 0, 0, 0.3));\n",
              "      fill: #FFFFFF;\n",
              "    }\n",
              "  </style>\n",
              "\n",
              "      <script>\n",
              "        const buttonEl =\n",
              "          document.querySelector('#df-dcc95a0d-3fa0-4bcb-a0f2-afa6f2baeee2 button.colab-df-convert');\n",
              "        buttonEl.style.display =\n",
              "          google.colab.kernel.accessAllowed ? 'block' : 'none';\n",
              "\n",
              "        async function convertToInteractive(key) {\n",
              "          const element = document.querySelector('#df-dcc95a0d-3fa0-4bcb-a0f2-afa6f2baeee2');\n",
              "          const dataTable =\n",
              "            await google.colab.kernel.invokeFunction('convertToInteractive',\n",
              "                                                     [key], {});\n",
              "          if (!dataTable) return;\n",
              "\n",
              "          const docLinkHtml = 'Like what you see? Visit the ' +\n",
              "            '<a target=\"_blank\" href=https://colab.research.google.com/notebooks/data_table.ipynb>data table notebook</a>'\n",
              "            + ' to learn more about interactive tables.';\n",
              "          element.innerHTML = '';\n",
              "          dataTable['output_type'] = 'display_data';\n",
              "          await google.colab.output.renderOutput(dataTable, element);\n",
              "          const docLink = document.createElement('div');\n",
              "          docLink.innerHTML = docLinkHtml;\n",
              "          element.appendChild(docLink);\n",
              "        }\n",
              "      </script>\n",
              "    </div>\n",
              "  </div>\n",
              "  "
            ],
            "text/plain": [
              "           Algorithm   rmse_train    rmse_test\n",
              "0  Linear Regression  9179.423772  8829.353342\n",
              "1                KNN  1080.788623  7600.098180"
            ]
          },
          "execution_count": 18,
          "metadata": {},
          "output_type": "execute_result"
        }
      ],
      "source": [
        "ml_models.head()"
      ]
    },
    {
      "cell_type": "code",
      "execution_count": 19,
      "metadata": {
        "colab": {
          "base_uri": "https://localhost:8080/",
          "height": 472
        },
        "id": "ErCZTiHEsxIX",
        "outputId": "5fd035b3-d4e0-4e0a-8103-b4af18f0ca28"
      },
      "outputs": [
        {
          "data": {
            "image/png": "[encoded data removed]",
            "text/plain": [
              "<Figure size 640x480 with 1 Axes>"
            ]
          },
          "metadata": {},
          "output_type": "display_data"
        }
      ],
      "source": [
        "x_lst = np.arange(1,20,2)\n",
        "plt.plot(x_lst, mean_tree_rmse_train, label='train')\n",
        "plt.plot(x_lst, mean_tree_rmse_test, '-.', label='test')\n",
        "plt.xlabel(\"KFold\")\n",
        "plt.ylabel(\"RMSE\")\n",
        "plt.legend(loc=\"upper left\")\n",
        "plt.title('Train Test Plot KNN')\n",
        "plt.show()"
      ]
    },
    {
      "cell_type": "markdown",
      "metadata": {
        "id": "OVyKntKghrCB"
      },
      "source": [
        "ADA boost classifier"
      ]
    },
    {
      "cell_type": "code",
      "execution_count": 20,
      "metadata": {
        "colab": {
          "base_uri": "https://localhost:8080/"
        },
        "id": "wBczg2AAhrCB",
        "outputId": "e7731140-f9b1-491f-a36b-f122600bf155"
      },
      "outputs": [
        {
          "name": "stdout",
          "output_type": "stream",
          "text": [
            "max_depth: 1\n",
            "[13587.901304254245, 13569.194064103904, 14264.569589295086, 16286.625758729197, 13510.283913205576, 16402.794585933592, 13512.709916943457, 15839.315313300076, 17571.138123756093, 13725.459806793167]\n",
            "max_depth: 3\n",
            "[11806.065708729071, 11830.404635379979, 11786.819140492798, 11173.320047347353, 11830.714817484526, 12025.491959272287, 12112.929372281671, 11258.90520002049, 11921.07787002224, 11681.845340519134]\n",
            "max_depth: 5\n",
            "[11306.081710942693, 11009.811486366681, 11365.76532235385, 10950.947982802958, 11307.014322059507, 11851.604418612611, 11352.000406304871, 11228.365325737524, 11904.0146790261, 12070.548676125014]\n",
            "max_depth: 7\n",
            "[8280.65541385972, 9208.752540072499, 8335.252114609755, 9275.89496702774, 9427.401338524263, 8908.282088689584, 8872.292747184989, 9284.148355009429, 9655.145689180781, 8453.18344912975]\n",
            "max_depth: 9\n",
            "[7231.561976285341, 7693.277845053788, 7497.0024828417, 7787.504246951913, 8163.952966037936, 8051.281150981243, 8101.461381862972, 8110.398349411248, 8202.965158328785, 7834.763624668318]\n",
            "max_depth: 11\n",
            "[7621.505932061243, 7366.100770426083, 7022.759488579199, 7585.4194111175075, 8009.213226682147, 7795.71188031348, 7817.618818517042, 7820.093182089907, 8267.070830037183, 7451.657967587421]\n",
            "max_depth: 13\n",
            "[7562.87680659624, 7438.096944595615, 7415.359078090778, 7808.62419470334, 8014.259368074425, 7770.050252468232, 8122.410297408651, 7447.119780178292, 8267.690449552234, 7670.800969231921]\n",
            "max_depth: 15\n",
            "[7624.821173684238, 8019.838083032809, 7249.446740602323, 7747.176019399127, 8038.3190281281895, 8000.165450171985, 7563.090667097204, 7946.435518563489, 8934.778161847971, 7605.334562136862]\n",
            "max_depth: 17\n",
            "[7588.578283566028, 7780.670005315727, 7382.581309419982, 7765.954207432762, 8022.886305069797, 7833.770455719198, 7909.0683795877385, 7689.762616960307, 8783.698592274683, 7320.167648443291]\n",
            "max_depth: 19\n",
            "[7605.757988825217, 7639.783942845846, 7267.222838157513, 7758.11432797182, 8153.180626818749, 7906.056056555398, 7586.107521368393, 7576.147732129805, 8825.903670405783, 7443.105065384611]\n"
          ]
        }
      ],
      "source": [
        "#running this cell takes > 15 min\n",
        "\n",
        "kf = KFold(n_splits=10, shuffle=True, random_state=1)\n",
        "lst_ada_rmse_train = []\n",
        "lst_ada_rmse_test = []\n",
        "for x in range(1, 20, 2):\n",
        "    ada_rmse_train = []\n",
        "    ada_rmse_test = []\n",
        "    classifier = AdaBoostClassifier(\n",
        "    DecisionTreeClassifier(max_depth=x, criterion='entropy'),\n",
        "    n_estimators=4\n",
        "    )\n",
        "    for train_index, test_index in kf.split(df1):\n",
        "        X_train, X_test = df1[train_index], df1[test_index]\n",
        "        y_train, y_test = Y[train_index], Y[test_index]\n",
        "        classifier.fit(X_train, y_train)\n",
        "        ada_predictions_train = classifier.predict(X_train)\n",
        "        ada_mse_train = mean_squared_error(y_train, ada_predictions_train)\n",
        "        ada_rmse_train.append(np.sqrt(ada_mse_train))\n",
        "        ada_predictions_test = classifier.predict(X_test)\n",
        "        ada_mse_test = mean_squared_error(y_test, ada_predictions_test)\n",
        "        ada_rmse_test.append(np.sqrt(ada_mse_test))\n",
        "    print(f'max_depth: {x}')\n",
        "    print(ada_rmse_test)\n",
        "    lst_ada_rmse_train.append(ada_rmse_train)\n",
        "    lst_ada_rmse_test.append(ada_rmse_test)"
      ]
    },
    {
      "cell_type": "code",
      "execution_count": 21,
      "metadata": {
        "colab": {
          "base_uri": "https://localhost:8080/"
        },
        "id": "9IM_DyrGhrCC",
        "outputId": "21aa8c5d-24ef-4163-8422-62252a938370"
      },
      "outputs": [
        {
          "name": "stdout",
          "output_type": "stream",
          "text": [
            "Minimum rmse: 7675.715150741121 || max_depth: 11\n"
          ]
        }
      ],
      "source": [
        "mean_ada_rmse_train = [np.mean(x) for x in lst_ada_rmse_train]\n",
        "mean_ada_rmse_test = [np.mean(x) for x in lst_ada_rmse_test]\n",
        "min_idx = mean_ada_rmse_test.index(min(mean_ada_rmse_test))\n",
        "ml_models = ml_models.append({'Algorithm':'Ada Boost Tree', 'rmse_train':mean_ada_rmse_train[min_idx], 'rmse_test':min(mean_ada_rmse_test)}, ignore_index=True)\n",
        "print(f\"Minimum rmse: {min(mean_ada_rmse_test)} || max_depth: {min_idx + min_idx + 1}\")"
      ]
    },
    {
      "cell_type": "code",
      "execution_count": 22,
      "metadata": {
        "colab": {
          "base_uri": "https://localhost:8080/",
          "height": 143
        },
        "id": "Md7Glc7VsxIZ",
        "outputId": "f32412e2-2a0e-4629-cf19-f36b741becdc"
      },
      "outputs": [
        {
          "data": {
            "text/html": [
              "\n",
              "  <div id=\"df-b29299f1-1b7b-4320-814f-70c4df9e3318\">\n",
              "    <div class=\"colab-df-container\">\n",
              "      <div>\n",
              "<style scoped>\n",
              "    .dataframe tbody tr th:only-of-type {\n",
              "        vertical-align: middle;\n",
              "    }\n",
              "\n",
              "    .dataframe tbody tr th {\n",
              "        vertical-align: top;\n",
              "    }\n",
              "\n",
              "    .dataframe thead th {\n",
              "        text-align: right;\n",
              "    }\n",
              "</style>\n",
              "<table border=\"1\" class=\"dataframe\">\n",
              "  <thead>\n",
              "    <tr style=\"text-align: right;\">\n",
              "      <th></th>\n",
              "      <th>Algorithm</th>\n",
              "      <th>rmse_train</th>\n",
              "      <th>rmse_test</th>\n",
              "    </tr>\n",
              "  </thead>\n",
              "  <tbody>\n",
              "    <tr>\n",
              "      <th>0</th>\n",
              "      <td>Linear Regression</td>\n",
              "      <td>9179.423772</td>\n",
              "      <td>8829.353342</td>\n",
              "    </tr>\n",
              "    <tr>\n",
              "      <th>1</th>\n",
              "      <td>KNN</td>\n",
              "      <td>1080.788623</td>\n",
              "      <td>7600.098180</td>\n",
              "    </tr>\n",
              "    <tr>\n",
              "      <th>2</th>\n",
              "      <td>Ada Boost Tree</td>\n",
              "      <td>2559.642746</td>\n",
              "      <td>7675.715151</td>\n",
              "    </tr>\n",
              "  </tbody>\n",
              "</table>\n",
              "</div>\n",
              "      <button class=\"colab-df-convert\" onclick=\"convertToInteractive('df-b29299f1-1b7b-4320-814f-70c4df9e3318')\"\n",
              "              title=\"Convert this dataframe to an interactive table.\"\n",
              "              style=\"display:none;\">\n",
              "        \n",
              "  <svg xmlns=\"http://www.w3.org/2000/svg\" height=\"24px\"viewBox=\"0 0 24 24\"\n",
              "       width=\"24px\">\n",
              "    <path d=\"M0 0h24v24H0V0z\" fill=\"none\"/>\n",
              "    <path d=\"M18.56 5.44l.94 2.06.94-2.06 2.06-.94-2.06-.94-.94-2.06-.94 2.06-2.06.94zm-11 1L8.5 8.5l.94-2.06 2.06-.94-2.06-.94L8.5 2.5l-.94 2.06-2.06.94zm10 10l.94 2.06.94-2.06 2.06-.94-2.06-.94-.94-2.06-.94 2.06-2.06.94z\"/><path d=\"M17.41 7.96l-1.37-1.37c-.4-.4-.92-.59-1.43-.59-.52 0-1.04.2-1.43.59L10.3 9.45l-7.72 7.72c-.78.78-.78 2.05 0 2.83L4 21.41c.39.39.9.59 1.41.59.51 0 1.02-.2 1.41-.59l7.78-7.78 2.81-2.81c.8-.78.8-2.07 0-2.86zM5.41 20L4 18.59l7.72-7.72 1.47 1.35L5.41 20z\"/>\n",
              "  </svg>\n",
              "      </button>\n",
              "      \n",
              "  <style>\n",
              "    .colab-df-container {\n",
              "      display:flex;\n",
              "      flex-wrap:wrap;\n",
              "      gap: 12px;\n",
              "    }\n",
              "\n",
              "    .colab-df-convert {\n",
              "      background-color: #E8F0FE;\n",
              "      border: none;\n",
              "      border-radius: 50%;\n",
              "      cursor: pointer;\n",
              "      display: none;\n",
              "      fill: #1967D2;\n",
              "      height: 32px;\n",
              "      padding: 0 0 0 0;\n",
              "      width: 32px;\n",
              "    }\n",
              "\n",
              "    .colab-df-convert:hover {\n",
              "      background-color: #E2EBFA;\n",
              "      box-shadow: 0px 1px 2px rgba(60, 64, 67, 0.3), 0px 1px 3px 1px rgba(60, 64, 67, 0.15);\n",
              "      fill: #174EA6;\n",
              "    }\n",
              "\n",
              "    [theme=dark] .colab-df-convert {\n",
              "      background-color: #3B4455;\n",
              "      fill: #D2E3FC;\n",
              "    }\n",
              "\n",
              "    [theme=dark] .colab-df-convert:hover {\n",
              "      background-color: #434B5C;\n",
              "      box-shadow: 0px 1px 3px 1px rgba(0, 0, 0, 0.15);\n",
              "      filter: drop-shadow(0px 1px 2px rgba(0, 0, 0, 0.3));\n",
              "      fill: #FFFFFF;\n",
              "    }\n",
              "  </style>\n",
              "\n",
              "      <script>\n",
              "        const buttonEl =\n",
              "          document.querySelector('#df-b29299f1-1b7b-4320-814f-70c4df9e3318 button.colab-df-convert');\n",
              "        buttonEl.style.display =\n",
              "          google.colab.kernel.accessAllowed ? 'block' : 'none';\n",
              "\n",
              "        async function convertToInteractive(key) {\n",
              "          const element = document.querySelector('#df-b29299f1-1b7b-4320-814f-70c4df9e3318');\n",
              "          const dataTable =\n",
              "            await google.colab.kernel.invokeFunction('convertToInteractive',\n",
              "                                                     [key], {});\n",
              "          if (!dataTable) return;\n",
              "\n",
              "          const docLinkHtml = 'Like what you see? Visit the ' +\n",
              "            '<a target=\"_blank\" href=https://colab.research.google.com/notebooks/data_table.ipynb>data table notebook</a>'\n",
              "            + ' to learn more about interactive tables.';\n",
              "          element.innerHTML = '';\n",
              "          dataTable['output_type'] = 'display_data';\n",
              "          await google.colab.output.renderOutput(dataTable, element);\n",
              "          const docLink = document.createElement('div');\n",
              "          docLink.innerHTML = docLinkHtml;\n",
              "          element.appendChild(docLink);\n",
              "        }\n",
              "      </script>\n",
              "    </div>\n",
              "  </div>\n",
              "  "
            ],
            "text/plain": [
              "           Algorithm   rmse_train    rmse_test\n",
              "0  Linear Regression  9179.423772  8829.353342\n",
              "1                KNN  1080.788623  7600.098180\n",
              "2     Ada Boost Tree  2559.642746  7675.715151"
            ]
          },
          "execution_count": 22,
          "metadata": {},
          "output_type": "execute_result"
        }
      ],
      "source": [
        "ml_models.head()"
      ]
    },
    {
      "cell_type": "code",
      "execution_count": 23,
      "metadata": {
        "colab": {
          "base_uri": "https://localhost:8080/",
          "height": 472
        },
        "id": "_vXbm4krsxIZ",
        "outputId": "ec0a7793-de49-478d-d558-2b66744b4647"
      },
      "outputs": [
        {
          "data": {
            "image/png": "[encoded data removed]",
            "text/plain": [
              "<Figure size 640x480 with 1 Axes>"
            ]
          },
          "metadata": {},
          "output_type": "display_data"
        }
      ],
      "source": [
        "x_lst = np.arange(1,20,2)\n",
        "plt.plot(x_lst, mean_ada_rmse_train, label = 'train')\n",
        "plt.plot(x_lst, mean_ada_rmse_test, '-.', label = 'test')\n",
        "plt.xlabel(\"KFold\")\n",
        "plt.ylabel(\"RMSE\")\n",
        "plt.legend(loc=\"upper left\")\n",
        "plt.title('Train Test Plot ADA Boost')\n",
        "plt.show()"
      ]
    },
    {
      "cell_type": "markdown",
      "metadata": {
        "id": "8IR4KSIShrCC"
      },
      "source": [
        "Support vector Regression"
      ]
    },
    {
      "cell_type": "code",
      "execution_count": 24,
      "metadata": {
        "colab": {
          "base_uri": "https://localhost:8080/",
          "height": 212
        },
        "id": "nsad_S2lhrCC",
        "outputId": "fd9f2176-6d82-42cc-ab48-0263aa902eae"
      },
      "outputs": [
        {
          "name": "stdout",
          "output_type": "stream",
          "text": [
            "[11026.138915536067, 11324.048006893672, 11370.519050693156, 11164.788998724756, 11404.316141982736, 11839.609188024762, 11410.040314427768, 11499.269141371464, 11487.22117365352, 10917.628010204317]\n"
          ]
        },
        {
          "data": {
            "text/html": [
              "\n",
              "  <div id=\"df-3f4a1a10-c3b7-486e-a00b-19f229af038d\">\n",
              "    <div class=\"colab-df-container\">\n",
              "      <div>\n",
              "<style scoped>\n",
              "    .dataframe tbody tr th:only-of-type {\n",
              "        vertical-align: middle;\n",
              "    }\n",
              "\n",
              "    .dataframe tbody tr th {\n",
              "        vertical-align: top;\n",
              "    }\n",
              "\n",
              "    .dataframe thead th {\n",
              "        text-align: right;\n",
              "    }\n",
              "</style>\n",
              "<table border=\"1\" class=\"dataframe\">\n",
              "  <thead>\n",
              "    <tr style=\"text-align: right;\">\n",
              "      <th></th>\n",
              "      <th>Algorithm</th>\n",
              "      <th>rmse_train</th>\n",
              "      <th>rmse_test</th>\n",
              "    </tr>\n",
              "  </thead>\n",
              "  <tbody>\n",
              "    <tr>\n",
              "      <th>0</th>\n",
              "      <td>Linear Regression</td>\n",
              "      <td>9179.423772</td>\n",
              "      <td>8829.353342</td>\n",
              "    </tr>\n",
              "    <tr>\n",
              "      <th>1</th>\n",
              "      <td>KNN</td>\n",
              "      <td>1080.788623</td>\n",
              "      <td>7600.098180</td>\n",
              "    </tr>\n",
              "    <tr>\n",
              "      <th>2</th>\n",
              "      <td>Ada Boost Tree</td>\n",
              "      <td>2559.642746</td>\n",
              "      <td>7675.715151</td>\n",
              "    </tr>\n",
              "    <tr>\n",
              "      <th>3</th>\n",
              "      <td>SVR</td>\n",
              "      <td>11382.448951</td>\n",
              "      <td>10917.628010</td>\n",
              "    </tr>\n",
              "  </tbody>\n",
              "</table>\n",
              "</div>\n",
              "      <button class=\"colab-df-convert\" onclick=\"convertToInteractive('df-3f4a1a10-c3b7-486e-a00b-19f229af038d')\"\n",
              "              title=\"Convert this dataframe to an interactive table.\"\n",
              "              style=\"display:none;\">\n",
              "        \n",
              "  <svg xmlns=\"http://www.w3.org/2000/svg\" height=\"24px\"viewBox=\"0 0 24 24\"\n",
              "       width=\"24px\">\n",
              "    <path d=\"M0 0h24v24H0V0z\" fill=\"none\"/>\n",
              "    <path d=\"M18.56 5.44l.94 2.06.94-2.06 2.06-.94-2.06-.94-.94-2.06-.94 2.06-2.06.94zm-11 1L8.5 8.5l.94-2.06 2.06-.94-2.06-.94L8.5 2.5l-.94 2.06-2.06.94zm10 10l.94 2.06.94-2.06 2.06-.94-2.06-.94-.94-2.06-.94 2.06-2.06.94z\"/><path d=\"M17.41 7.96l-1.37-1.37c-.4-.4-.92-.59-1.43-.59-.52 0-1.04.2-1.43.59L10.3 9.45l-7.72 7.72c-.78.78-.78 2.05 0 2.83L4 21.41c.39.39.9.59 1.41.59.51 0 1.02-.2 1.41-.59l7.78-7.78 2.81-2.81c.8-.78.8-2.07 0-2.86zM5.41 20L4 18.59l7.72-7.72 1.47 1.35L5.41 20z\"/>\n",
              "  </svg>\n",
              "      </button>\n",
              "      \n",
              "  <style>\n",
              "    .colab-df-container {\n",
              "      display:flex;\n",
              "      flex-wrap:wrap;\n",
              "      gap: 12px;\n",
              "    }\n",
              "\n",
              "    .colab-df-convert {\n",
              "      background-color: #E8F0FE;\n",
              "      border: none;\n",
              "      border-radius: 50%;\n",
              "      cursor: pointer;\n",
              "      display: none;\n",
              "      fill: #1967D2;\n",
              "      height: 32px;\n",
              "      padding: 0 0 0 0;\n",
              "      width: 32px;\n",
              "    }\n",
              "\n",
              "    .colab-df-convert:hover {\n",
              "      background-color: #E2EBFA;\n",
              "      box-shadow: 0px 1px 2px rgba(60, 64, 67, 0.3), 0px 1px 3px 1px rgba(60, 64, 67, 0.15);\n",
              "      fill: #174EA6;\n",
              "    }\n",
              "\n",
              "    [theme=dark] .colab-df-convert {\n",
              "      background-color: #3B4455;\n",
              "      fill: #D2E3FC;\n",
              "    }\n",
              "\n",
              "    [theme=dark] .colab-df-convert:hover {\n",
              "      background-color: #434B5C;\n",
              "      box-shadow: 0px 1px 3px 1px rgba(0, 0, 0, 0.15);\n",
              "      filter: drop-shadow(0px 1px 2px rgba(0, 0, 0, 0.3));\n",
              "      fill: #FFFFFF;\n",
              "    }\n",
              "  </style>\n",
              "\n",
              "      <script>\n",
              "        const buttonEl =\n",
              "          document.querySelector('#df-3f4a1a10-c3b7-486e-a00b-19f229af038d button.colab-df-convert');\n",
              "        buttonEl.style.display =\n",
              "          google.colab.kernel.accessAllowed ? 'block' : 'none';\n",
              "\n",
              "        async function convertToInteractive(key) {\n",
              "          const element = document.querySelector('#df-3f4a1a10-c3b7-486e-a00b-19f229af038d');\n",
              "          const dataTable =\n",
              "            await google.colab.kernel.invokeFunction('convertToInteractive',\n",
              "                                                     [key], {});\n",
              "          if (!dataTable) return;\n",
              "\n",
              "          const docLinkHtml = 'Like what you see? Visit the ' +\n",
              "            '<a target=\"_blank\" href=https://colab.research.google.com/notebooks/data_table.ipynb>data table notebook</a>'\n",
              "            + ' to learn more about interactive tables.';\n",
              "          element.innerHTML = '';\n",
              "          dataTable['output_type'] = 'display_data';\n",
              "          await google.colab.output.renderOutput(dataTable, element);\n",
              "          const docLink = document.createElement('div');\n",
              "          docLink.innerHTML = docLinkHtml;\n",
              "          element.appendChild(docLink);\n",
              "        }\n",
              "      </script>\n",
              "    </div>\n",
              "  </div>\n",
              "  "
            ],
            "text/plain": [
              "           Algorithm    rmse_train     rmse_test\n",
              "0  Linear Regression   9179.423772   8829.353342\n",
              "1                KNN   1080.788623   7600.098180\n",
              "2     Ada Boost Tree   2559.642746   7675.715151\n",
              "3                SVR  11382.448951  10917.628010"
            ]
          },
          "execution_count": 24,
          "metadata": {},
          "output_type": "execute_result"
        }
      ],
      "source": [
        "#running this cell takes > 15 min\n",
        "\n",
        "svr_rmse_train = []\n",
        "svr_rmse_test = []\n",
        "kf = KFold(n_splits=10, shuffle=True, random_state=1)\n",
        "svr = SVR()\n",
        "for train_index, test_index in kf.split(df1):\n",
        "    X_train, X_test = df1[train_index], df1[test_index]\n",
        "    y_train, y_test = Y[train_index], Y[test_index]\n",
        "    svr.fit(X_train, y_train)\n",
        "    predictions_train = svr.predict(X_train)\n",
        "    svr_mse_train = mean_squared_error(y_train, predictions_train)\n",
        "    svr_rmse_train.append(np.sqrt(svr_mse_train))\n",
        "    predictions_test = svr.predict(X_test)\n",
        "    svr_mse_test = mean_squared_error(y_test, predictions_test)\n",
        "    svr_rmse_test.append(np.sqrt(svr_mse_test))\n",
        "print(svr_rmse_test)\n",
        "min_idx = svr_rmse_test.index(min(svr_rmse_test))\n",
        "ml_models = ml_models.append({'Algorithm':'SVR', 'rmse_train':svr_rmse_train[min_idx], 'rmse_test':min(svr_rmse_test)}, ignore_index=True)\n",
        "ml_models.head()"
      ]
    },
    {
      "cell_type": "code",
      "execution_count": 25,
      "metadata": {
        "colab": {
          "base_uri": "https://localhost:8080/",
          "height": 472
        },
        "id": "_Q_BZMsSsxIa",
        "outputId": "a05d2c06-95dd-4b09-fc7f-19f9ae877636"
      },
      "outputs": [
        {
          "data": {
            "image/png": "[encoded data removed]",
            "text/plain": [
              "<Figure size 640x480 with 1 Axes>"
            ]
          },
          "metadata": {},
          "output_type": "display_data"
        }
      ],
      "source": [
        "x_lst = np.arange(1,11,1)\n",
        "plt.plot(x_lst, svr_rmse_train, label='train')\n",
        "plt.plot(x_lst, svr_rmse_test, '-.', label='test')\n",
        "plt.xlabel(\"KFold\")\n",
        "plt.ylabel(\"RMSE\")\n",
        "plt.legend(loc=\"upper left\")\n",
        "plt.title('Train Test Plot SVR')\n",
        "plt.show()"
      ]
    },
    {
      "cell_type": "markdown",
      "metadata": {
        "id": "gnv5Ci27hrCD"
      },
      "source": [
        "Random Forest Regressor"
      ]
    },
    {
      "cell_type": "code",
      "execution_count": 26,
      "metadata": {
        "colab": {
          "base_uri": "https://localhost:8080/"
        },
        "id": "_xpBT4WZhrCD",
        "outputId": "b5ad224f-2e5e-43cb-c140-c2f7d2584f6e"
      },
      "outputs": [
        {
          "name": "stdout",
          "output_type": "stream",
          "text": [
            "max_depth: 1\n",
            "[10771.751849717304, 10841.317973112626, 10924.517393842234, 10786.00309206863, 11005.407170460632, 11323.00913241403, 10956.341746405958, 11019.89558030792, 11137.871490420364, 10651.643245942154]\n",
            "max_depth: 4\n",
            "[8443.774831393077, 8540.041982539593, 8540.686672069744, 8576.941362467414, 8554.956680996185, 8586.614244111, 8576.271177064664, 8773.403070376904, 9043.029826358896, 8228.527032836642]\n",
            "max_depth: 7\n",
            "[6920.2925194461595, 7124.607325012597, 6914.632591280206, 7285.867469401908, 7173.852087660723, 7090.906576828431, 7101.787580740987, 7297.304946348026, 7433.371040315256, 6718.483437950977]\n",
            "max_depth: 10\n",
            "[5972.145526415012, 6465.179390069959, 6286.49917558165, 6686.5457097067665, 6538.199668158811, 6587.861842437884, 6536.295623196408, 6613.600015763431, 6689.196854211008, 6041.568025263273]\n",
            "max_depth: 13\n",
            "[5505.335812168099, 5996.884943102545, 5842.895875571386, 6278.75416083541, 6186.410644940642, 6276.307646216404, 6195.306290029279, 6148.013481818574, 6269.042938929138, 5704.802647043245]\n",
            "max_depth: 16\n",
            "[5236.5039684589465, 5764.800079340801, 5534.841076646865, 6001.387383318066, 5955.510259707567, 6076.757953069492, 5984.915994622296, 5860.8671797798015, 6075.353507019709, 5439.183379704093]\n",
            "max_depth: 19\n",
            "[5188.482791322229, 5678.890938649548, 5441.585346387478, 5832.147237806685, 5820.088711575392, 6025.123692092062, 5871.510906323944, 5764.44852637163, 5963.681755797318, 5340.664368625286]\n",
            "max_depth: 22\n",
            "[5184.202091149107, 5570.037862207583, 5345.846191917917, 5876.117983602963, 5796.560077624959, 5982.965192916099, 5803.571397025582, 5682.009601544198, 5910.3924278537515, 5310.358162239711]\n",
            "max_depth: 25\n",
            "[5151.285250296823, 5572.962687398066, 5310.769843494239, 5844.070178389403, 5821.787655328517, 5932.028670763684, 5763.891966637913, 5677.050719248463, 5936.445821172306, 5303.653447324531]\n",
            "max_depth: 28\n",
            "[5212.424126462836, 5569.089713046017, 5306.622523292486, 5829.278311608064, 5802.8642363208455, 5948.279944173561, 5834.479345919373, 5683.37364829449, 5909.930359538019, 5244.6518523030245]\n",
            "max_depth: 31\n",
            "[5172.517850238753, 5582.848894661296, 5305.483373254599, 5834.942354191197, 5766.174488753952, 5956.460012219939, 5726.924463365301, 5755.73054049531, 5907.78106188196, 5313.896058351386]\n",
            "max_depth: 34\n",
            "[5206.65893073314, 5563.916663008981, 5384.06964767339, 5847.820263093173, 5814.211826136832, 6002.055646816341, 5768.500563794481, 5653.37657745688, 5910.873991002474, 5288.753890299334]\n",
            "max_depth: 37\n",
            "[5176.6713440722015, 5591.550108333777, 5363.601851465671, 5825.717027967899, 5843.651191027041, 5967.814874163103, 5753.987800799052, 5675.787439945956, 5885.329255217371, 5258.660557138702]\n",
            "max_depth: 40\n",
            "[5145.283876137061, 5616.427950197632, 5298.188423447889, 5842.0706579503885, 5884.7087820566585, 6011.667753987273, 5788.608112014478, 5707.366274884429, 5868.006694512522, 5281.485137251277]\n",
            "max_depth: 43\n",
            "[5191.5964754388515, 5561.215668125228, 5328.425079772252, 5828.748811751987, 5776.079188452328, 5961.507783911967, 5824.198833733326, 5642.659805217901, 5926.80030476497, 5324.996575601298]\n",
            "max_depth: 46\n",
            "[5174.823598280763, 5593.231763525739, 5388.819593802607, 5855.053922749052, 5791.759185829008, 5974.075393625843, 5817.694355185605, 5618.516471496458, 5916.242825328909, 5349.533888370162]\n",
            "max_depth: 49\n",
            "[5172.369986027578, 5543.6095431748, 5317.394354811023, 5821.204554235022, 5820.204020552551, 5978.250172957575, 5711.650997206106, 5664.245385450325, 5904.208674310425, 5322.800284116774]\n",
            "max_depth: 52\n",
            "[5175.544103925591, 5570.621807457858, 5316.854932584724, 5814.667335554304, 5831.100260985356, 5947.808188857438, 5779.293263677939, 5698.794772486546, 5871.852708609491, 5336.011704475592]\n",
            "max_depth: 55\n",
            "[5183.533289513535, 5569.516512342905, 5349.9338742395, 5861.038978988118, 5815.189269403277, 5946.970628088783, 5761.903646717413, 5662.268364308077, 5933.51139927671, 5280.369460343525]\n",
            "max_depth: 58\n",
            "[5152.446285225316, 5568.618597511039, 5309.245422820493, 5807.1439093341205, 5770.58396281751, 6014.82560990272, 5772.993399814024, 5659.863111203029, 5901.957206397468, 5264.908076214189]\n"
          ]
        }
      ],
      "source": [
        "#running this cell takes > 15 min\n",
        "\n",
        "lst_rf_rmse_train = []\n",
        "lst_rf_rmse_test = []\n",
        "for x in range(1, 60, 3):\n",
        "    rf_rmse_train = []\n",
        "    rf_rmse_test = []\n",
        "    rfr = RandomForestRegressor(max_depth=x)\n",
        "    for train_index, test_index in kf.split(df1):\n",
        "        X_train, X_test = df1[train_index], df1[test_index]\n",
        "        y_train, y_test = Y[train_index], Y[test_index]\n",
        "        rfr.fit(X_train, y_train)\n",
        "        rf_predictions_train = rfr.predict(X_train)\n",
        "        rf_mse_train = mean_squared_error(y_train, rf_predictions_train)\n",
        "        rf_rmse_train.append(np.sqrt(rf_mse_train))\n",
        "        rf_predictions_test = rfr.predict(X_test)\n",
        "        rf_mse_test = mean_squared_error(y_test, rf_predictions_test)\n",
        "        rf_rmse_test.append(np.sqrt(rf_mse_test))\n",
        "    print(f'max_depth: {x}')\n",
        "    print(rf_rmse_test)\n",
        "    lst_rf_rmse_train.append(rf_rmse_train)\n",
        "    lst_rf_rmse_test.append(rf_rmse_test)"
      ]
    },
    {
      "cell_type": "code",
      "execution_count": 27,
      "metadata": {
        "colab": {
          "base_uri": "https://localhost:8080/"
        },
        "id": "DxgdoqmWhrCD",
        "outputId": "c21e8485-683c-4b36-f5de-dbf4fdf2da6e"
      },
      "outputs": [
        {
          "name": "stdout",
          "output_type": "stream",
          "text": [
            "Minimum rmse: 5622.258558123991 || max_depth: 58\n"
          ]
        }
      ],
      "source": [
        "mean_rf_rmse_train = [np.mean(x) for x in lst_rf_rmse_train]\n",
        "mean_rf_rmse_test = [np.mean(x) for x in lst_rf_rmse_test]\n",
        "min_idx = mean_rf_rmse_test.index(min(mean_rf_rmse_test))\n",
        "ml_models = ml_models.append({'Algorithm':'Random Forest Regressor', 'rmse_train':mean_rf_rmse_train[min_idx], 'rmse_test':min(mean_rf_rmse_test)}, ignore_index=True)\n",
        "print(f\"Minimum rmse: {min(mean_rf_rmse_test)} || max_depth: {1 + min_idx * 3}\")"
      ]
    },
    {
      "cell_type": "code",
      "execution_count": 28,
      "metadata": {
        "colab": {
          "base_uri": "https://localhost:8080/",
          "height": 206
        },
        "id": "BwxDaEPOlFlC",
        "outputId": "8cf15c8c-8100-4680-d081-c04b18d31a28"
      },
      "outputs": [
        {
          "data": {
            "text/html": [
              "\n",
              "  <div id=\"df-2dd1e1d0-126b-489a-8c40-9653ff723ad4\">\n",
              "    <div class=\"colab-df-container\">\n",
              "      <div>\n",
              "<style scoped>\n",
              "    .dataframe tbody tr th:only-of-type {\n",
              "        vertical-align: middle;\n",
              "    }\n",
              "\n",
              "    .dataframe tbody tr th {\n",
              "        vertical-align: top;\n",
              "    }\n",
              "\n",
              "    .dataframe thead th {\n",
              "        text-align: right;\n",
              "    }\n",
              "</style>\n",
              "<table border=\"1\" class=\"dataframe\">\n",
              "  <thead>\n",
              "    <tr style=\"text-align: right;\">\n",
              "      <th></th>\n",
              "      <th>Algorithm</th>\n",
              "      <th>rmse_train</th>\n",
              "      <th>rmse_test</th>\n",
              "    </tr>\n",
              "  </thead>\n",
              "  <tbody>\n",
              "    <tr>\n",
              "      <th>0</th>\n",
              "      <td>Linear Regression</td>\n",
              "      <td>9179.423772</td>\n",
              "      <td>8829.353342</td>\n",
              "    </tr>\n",
              "    <tr>\n",
              "      <th>1</th>\n",
              "      <td>KNN</td>\n",
              "      <td>1080.788623</td>\n",
              "      <td>7600.098180</td>\n",
              "    </tr>\n",
              "    <tr>\n",
              "      <th>2</th>\n",
              "      <td>Ada Boost Tree</td>\n",
              "      <td>2559.642746</td>\n",
              "      <td>7675.715151</td>\n",
              "    </tr>\n",
              "    <tr>\n",
              "      <th>3</th>\n",
              "      <td>SVR</td>\n",
              "      <td>11382.448951</td>\n",
              "      <td>10917.628010</td>\n",
              "    </tr>\n",
              "    <tr>\n",
              "      <th>4</th>\n",
              "      <td>Random Forest Regressor</td>\n",
              "      <td>2205.456958</td>\n",
              "      <td>5622.258558</td>\n",
              "    </tr>\n",
              "  </tbody>\n",
              "</table>\n",
              "</div>\n",
              "      <button class=\"colab-df-convert\" onclick=\"convertToInteractive('df-2dd1e1d0-126b-489a-8c40-9653ff723ad4')\"\n",
              "              title=\"Convert this dataframe to an interactive table.\"\n",
              "              style=\"display:none;\">\n",
              "        \n",
              "  <svg xmlns=\"http://www.w3.org/2000/svg\" height=\"24px\"viewBox=\"0 0 24 24\"\n",
              "       width=\"24px\">\n",
              "    <path d=\"M0 0h24v24H0V0z\" fill=\"none\"/>\n",
              "    <path d=\"M18.56 5.44l.94 2.06.94-2.06 2.06-.94-2.06-.94-.94-2.06-.94 2.06-2.06.94zm-11 1L8.5 8.5l.94-2.06 2.06-.94-2.06-.94L8.5 2.5l-.94 2.06-2.06.94zm10 10l.94 2.06.94-2.06 2.06-.94-2.06-.94-.94-2.06-.94 2.06-2.06.94z\"/><path d=\"M17.41 7.96l-1.37-1.37c-.4-.4-.92-.59-1.43-.59-.52 0-1.04.2-1.43.59L10.3 9.45l-7.72 7.72c-.78.78-.78 2.05 0 2.83L4 21.41c.39.39.9.59 1.41.59.51 0 1.02-.2 1.41-.59l7.78-7.78 2.81-2.81c.8-.78.8-2.07 0-2.86zM5.41 20L4 18.59l7.72-7.72 1.47 1.35L5.41 20z\"/>\n",
              "  </svg>\n",
              "      </button>\n",
              "      \n",
              "  <style>\n",
              "    .colab-df-container {\n",
              "      display:flex;\n",
              "      flex-wrap:wrap;\n",
              "      gap: 12px;\n",
              "    }\n",
              "\n",
              "    .colab-df-convert {\n",
              "      background-color: #E8F0FE;\n",
              "      border: none;\n",
              "      border-radius: 50%;\n",
              "      cursor: pointer;\n",
              "      display: none;\n",
              "      fill: #1967D2;\n",
              "      height: 32px;\n",
              "      padding: 0 0 0 0;\n",
              "      width: 32px;\n",
              "    }\n",
              "\n",
              "    .colab-df-convert:hover {\n",
              "      background-color: #E2EBFA;\n",
              "      box-shadow: 0px 1px 2px rgba(60, 64, 67, 0.3), 0px 1px 3px 1px rgba(60, 64, 67, 0.15);\n",
              "      fill: #174EA6;\n",
              "    }\n",
              "\n",
              "    [theme=dark] .colab-df-convert {\n",
              "      background-color: #3B4455;\n",
              "      fill: #D2E3FC;\n",
              "    }\n",
              "\n",
              "    [theme=dark] .colab-df-convert:hover {\n",
              "      background-color: #434B5C;\n",
              "      box-shadow: 0px 1px 3px 1px rgba(0, 0, 0, 0.15);\n",
              "      filter: drop-shadow(0px 1px 2px rgba(0, 0, 0, 0.3));\n",
              "      fill: #FFFFFF;\n",
              "    }\n",
              "  </style>\n",
              "\n",
              "      <script>\n",
              "        const buttonEl =\n",
              "          document.querySelector('#df-2dd1e1d0-126b-489a-8c40-9653ff723ad4 button.colab-df-convert');\n",
              "        buttonEl.style.display =\n",
              "          google.colab.kernel.accessAllowed ? 'block' : 'none';\n",
              "\n",
              "        async function convertToInteractive(key) {\n",
              "          const element = document.querySelector('#df-2dd1e1d0-126b-489a-8c40-9653ff723ad4');\n",
              "          const dataTable =\n",
              "            await google.colab.kernel.invokeFunction('convertToInteractive',\n",
              "                                                     [key], {});\n",
              "          if (!dataTable) return;\n",
              "\n",
              "          const docLinkHtml = 'Like what you see? Visit the ' +\n",
              "            '<a target=\"_blank\" href=https://colab.research.google.com/notebooks/data_table.ipynb>data table notebook</a>'\n",
              "            + ' to learn more about interactive tables.';\n",
              "          element.innerHTML = '';\n",
              "          dataTable['output_type'] = 'display_data';\n",
              "          await google.colab.output.renderOutput(dataTable, element);\n",
              "          const docLink = document.createElement('div');\n",
              "          docLink.innerHTML = docLinkHtml;\n",
              "          element.appendChild(docLink);\n",
              "        }\n",
              "      </script>\n",
              "    </div>\n",
              "  </div>\n",
              "  "
            ],
            "text/plain": [
              "                 Algorithm    rmse_train     rmse_test\n",
              "0        Linear Regression   9179.423772   8829.353342\n",
              "1                      KNN   1080.788623   7600.098180\n",
              "2           Ada Boost Tree   2559.642746   7675.715151\n",
              "3                      SVR  11382.448951  10917.628010\n",
              "4  Random Forest Regressor   2205.456958   5622.258558"
            ]
          },
          "execution_count": 28,
          "metadata": {},
          "output_type": "execute_result"
        }
      ],
      "source": [
        "ml_models"
      ]
    },
    {
      "cell_type": "code",
      "execution_count": 29,
      "metadata": {
        "colab": {
          "base_uri": "https://localhost:8080/",
          "height": 472
        },
        "id": "iCPQd1V3sxIb",
        "outputId": "7859f2e2-902e-402d-dd76-a1d031aab995"
      },
      "outputs": [
        {
          "data": {
            "image/png": "[encoded data removed]",
            "text/plain": [
              "<Figure size 640x480 with 1 Axes>"
            ]
          },
          "metadata": {},
          "output_type": "display_data"
        }
      ],
      "source": [
        "x_lst = np.arange(1,60,3)\n",
        "plt.plot(x_lst, mean_rf_rmse_train, label='train')\n",
        "plt.plot(x_lst, mean_rf_rmse_test, '-.', label='test')\n",
        "plt.xlabel(\"KFold\")\n",
        "plt.ylabel(\"RMSE\")\n",
        "plt.legend(loc=\"upper left\")\n",
        "plt.title('Train Test Plot Random Forest Regressor')\n",
        "plt.show()"
      ]
    },
    {
      "cell_type": "markdown",
      "metadata": {
        "id": "M9EN-gE2sxIb"
      },
      "source": [
        "**Hyper-parameter Optimization**\n",
        "\n",
        "We select random forest regressor as the rmse for it is the lowest compared to other algorithms, but it is slightly over fitting on data we use GridCV to find the optimal parameters for the algorithms."
      ]
    },
    {
      "cell_type": "code",
      "execution_count": 30,
      "metadata": {
        "id": "veAtLfyosxIc"
      },
      "outputs": [],
      "source": [
        "X_train, X_test, y_train, y_test = train_test_split(df1, Y, test_size=0.33, random_state=1)"
      ]
    },
    {
      "cell_type": "code",
      "execution_count": 31,
      "metadata": {
        "colab": {
          "base_uri": "https://localhost:8080/"
        },
        "id": "nLMZ1yRMsxIc",
        "outputId": "07991d10-85d3-4819-9d03-d39318e2f285",
        "scrolled": true
      },
      "outputs": [
        {
          "data": {
            "text/plain": [
              "{'algorithm': 'auto', 'n_neighbors': 300, 'weights': 'distance'}"
            ]
          },
          "execution_count": 31,
          "metadata": {},
          "output_type": "execute_result"
        }
      ],
      "source": [
        "grid = { \n",
        "    'n_neighbors': [200,300,400,500],\n",
        "    'weights': ['uniform', 'distance'],\n",
        "    'algorithm' : ['auto', 'ball_tree', 'kd_tree', 'brute']\n",
        "}\n",
        "rf_cv = GridSearchCV(estimator=KNeighborsClassifier(), param_grid=grid, cv= 5)\n",
        "rf_cv.fit(X_train, y_train)\n",
        "rf_cv.best_params_"
      ]
    },
    {
      "cell_type": "code",
      "execution_count": 32,
      "metadata": {
        "colab": {
          "base_uri": "https://localhost:8080/"
        },
        "id": "YHYI1ProsxIc",
        "outputId": "824bd8a8-9373-4cdf-d33d-bb9de5ebb241"
      },
      "outputs": [
        {
          "name": "stdout",
          "output_type": "stream",
          "text": [
            "Train RMSE: 958.7146311129585 || Test RMSE: 9606.01463793569\n"
          ]
        }
      ],
      "source": [
        "knn = KNeighborsClassifier(n_neighbors=300, weights='distance', algorithm='auto')\n",
        "knn.fit(X_train, y_train)\n",
        "knn_predictions = knn.predict(X_train)\n",
        "knn_mse = mean_squared_error(y_train, knn_predictions)\n",
        "knn_train_rmse = np.sqrt(knn_mse)\n",
        "knn_predictions = knn.predict(X_test)\n",
        "knn_mse = mean_squared_error(y_test, knn_predictions)\n",
        "knn_test_rmse = np.sqrt(knn_mse)\n",
        "print(f'Train RMSE: {knn_train_rmse} || Test RMSE: {knn_test_rmse}')"
      ]
    },
    {
      "cell_type": "code",
      "execution_count": 33,
      "metadata": {
        "colab": {
          "base_uri": "https://localhost:8080/"
        },
        "id": "fDJOCYFzsxIc",
        "outputId": "27411ade-591e-4c2b-af1e-8842ef2f5ae0"
      },
      "outputs": [
        {
          "data": {
            "text/plain": [
              "{'max_depth': 8,\n",
              " 'max_features': 'sqrt',\n",
              " 'n_estimators': 500,\n",
              " 'random_state': 18}"
            ]
          },
          "execution_count": 33,
          "metadata": {},
          "output_type": "execute_result"
        }
      ],
      "source": [
        "grid = { \n",
        "    'n_estimators': [200,300,400,500],\n",
        "    'max_features': ['sqrt', 'log2'],\n",
        "    'max_depth' : [4,5,6,7,8],\n",
        "    'random_state' : [18]\n",
        "}\n",
        "rf_cv = GridSearchCV(estimator=RandomForestRegressor(), param_grid=grid, cv= 5)\n",
        "rf_cv.fit(X_train, y_train)\n",
        "rf_cv.best_params_"
      ]
    },
    {
      "cell_type": "code",
      "execution_count": 34,
      "metadata": {
        "colab": {
          "base_uri": "https://localhost:8080/"
        },
        "id": "Da5Vi8krsxId",
        "outputId": "b8fc7254-6c6b-4c2d-c0f2-b028a01b7823"
      },
      "outputs": [
        {
          "name": "stdout",
          "output_type": "stream",
          "text": [
            "Train RMSE: 8035.985625349999 || Test RMSE: 8141.879769237276\n"
          ]
        }
      ],
      "source": [
        "rfr = RandomForestRegressor(max_depth=8, max_features='sqrt', n_estimators=500, random_state=18)\n",
        "rfr.fit(X_train, y_train)\n",
        "forest_predictions = rfr.predict(X_train)\n",
        "forest_mse = mean_squared_error(y_train, forest_predictions)\n",
        "forest_train_rmse = np.sqrt(forest_mse)\n",
        "forest_predictions = rfr.predict(X_test)\n",
        "forest_mse = mean_squared_error(y_test, forest_predictions)\n",
        "forest_test_rmse = np.sqrt(forest_mse)\n",
        "print(f'Train RMSE: {forest_train_rmse} || Test RMSE: {forest_test_rmse}')"
      ]
    },
    {
      "cell_type": "code",
      "execution_count": 35,
      "metadata": {
        "colab": {
          "base_uri": "https://localhost:8080/"
        },
        "id": "WFIe58b9sxId",
        "outputId": "759b5f60-69f0-45bb-e00c-5678cbe83e2c"
      },
      "outputs": [
        {
          "data": {
            "text/plain": [
              "['RFR_model.joblib']"
            ]
          },
          "execution_count": 35,
          "metadata": {},
          "output_type": "execute_result"
        }
      ],
      "source": [
        "import joblib\n",
        "joblib.dump(rfr, 'RFR_model.joblib')\n"
      ]
    },
    {
      "attachments": {},
      "cell_type": "markdown",
      "metadata": {
        "id": "U3UGx4oUsxId"
      },
      "source": [
        "Note: Due to limited computing power, grid search was not performed on all features.\n",
        "\n",
        "Outcome: The Linear Regression Model demonstrated good model generalization, achieving an RMSE of 8829.33 on the test data. KNN exhibited overfitting, with a significantly lower training RMSE compared to testing RMSE. Similarly, Decision Tree also showed signs of overfitting. SVR demonstrated good generalization with a similar RMSE on both the testing and training data. Random Forest Regressor slightly overfitted the data, but we used GridCV to identify optimal parameters and trained the model on these parameters, resulting in a better generalization with a lower RMSE compared to other algorithms.\n",
        "\n",
        "Considering the lower RMSE and better generalization on data, we chose Random Forest Regressor as our model algorithm, after grid search on its optimal parameters."
      ]
    },
    {
      "cell_type": "markdown",
      "metadata": {},
      "source": []
    }
  ],
  "metadata": {
    "accelerator": "TPU",
    "colab": {
      "provenance": []
    },
    "gpuClass": "standard",
    "kernelspec": {
      "display_name": "Python 3 (ipykernel)",
      "language": "python",
      "name": "python3"
    },
    "language_info": {
      "codemirror_mode": {
        "name": "ipython",
        "version": 3
      },
      "file_extension": ".py",
      "mimetype": "text/x-python",
      "name": "python",
      "nbconvert_exporter": "python",
      "pygments_lexer": "ipython3",
      "version": "3.9.12"
    }
  },
  "nbformat": 4,
  "nbformat_minor": 0
}
